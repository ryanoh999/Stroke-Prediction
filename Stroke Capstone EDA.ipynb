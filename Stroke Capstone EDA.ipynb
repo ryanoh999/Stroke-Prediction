{
 "cells": [
  {
   "cell_type": "code",
   "execution_count": 1,
   "id": "121e6b4b",
   "metadata": {},
   "outputs": [],
   "source": [
    "import numpy as np \n",
    "import pandas as pd \n",
    "import matplotlib.pyplot as plt \n",
    "import seaborn as sns"
   ]
  },
  {
   "cell_type": "code",
   "execution_count": 2,
   "id": "33b1c6d8",
   "metadata": {},
   "outputs": [],
   "source": [
    "df = pd.read_csv('df_cleaned.csv')"
   ]
  },
  {
   "cell_type": "code",
   "execution_count": 3,
   "id": "068f12a2",
   "metadata": {},
   "outputs": [
    {
     "data": {
      "text/html": [
       "<div>\n",
       "<style scoped>\n",
       "    .dataframe tbody tr th:only-of-type {\n",
       "        vertical-align: middle;\n",
       "    }\n",
       "\n",
       "    .dataframe tbody tr th {\n",
       "        vertical-align: top;\n",
       "    }\n",
       "\n",
       "    .dataframe thead th {\n",
       "        text-align: right;\n",
       "    }\n",
       "</style>\n",
       "<table border=\"1\" class=\"dataframe\">\n",
       "  <thead>\n",
       "    <tr style=\"text-align: right;\">\n",
       "      <th></th>\n",
       "      <th>id</th>\n",
       "      <th>gender</th>\n",
       "      <th>age</th>\n",
       "      <th>hypertension</th>\n",
       "      <th>heart_disease</th>\n",
       "      <th>ever_married</th>\n",
       "      <th>work_type</th>\n",
       "      <th>Residence_type</th>\n",
       "      <th>avg_glucose_level</th>\n",
       "      <th>bmi</th>\n",
       "      <th>smoking_status</th>\n",
       "      <th>stroke</th>\n",
       "    </tr>\n",
       "  </thead>\n",
       "  <tbody>\n",
       "    <tr>\n",
       "      <th>0</th>\n",
       "      <td>9046</td>\n",
       "      <td>Male</td>\n",
       "      <td>67.0</td>\n",
       "      <td>0</td>\n",
       "      <td>1</td>\n",
       "      <td>Yes</td>\n",
       "      <td>Private</td>\n",
       "      <td>Urban</td>\n",
       "      <td>228.69</td>\n",
       "      <td>36.6</td>\n",
       "      <td>formerly smoked</td>\n",
       "      <td>1</td>\n",
       "    </tr>\n",
       "    <tr>\n",
       "      <th>1</th>\n",
       "      <td>51676</td>\n",
       "      <td>Female</td>\n",
       "      <td>61.0</td>\n",
       "      <td>0</td>\n",
       "      <td>0</td>\n",
       "      <td>Yes</td>\n",
       "      <td>Self-employed</td>\n",
       "      <td>Rural</td>\n",
       "      <td>202.21</td>\n",
       "      <td>NaN</td>\n",
       "      <td>never smoked</td>\n",
       "      <td>1</td>\n",
       "    </tr>\n",
       "    <tr>\n",
       "      <th>2</th>\n",
       "      <td>31112</td>\n",
       "      <td>Male</td>\n",
       "      <td>80.0</td>\n",
       "      <td>0</td>\n",
       "      <td>1</td>\n",
       "      <td>Yes</td>\n",
       "      <td>Private</td>\n",
       "      <td>Rural</td>\n",
       "      <td>105.92</td>\n",
       "      <td>32.5</td>\n",
       "      <td>never smoked</td>\n",
       "      <td>1</td>\n",
       "    </tr>\n",
       "    <tr>\n",
       "      <th>3</th>\n",
       "      <td>60182</td>\n",
       "      <td>Female</td>\n",
       "      <td>49.0</td>\n",
       "      <td>0</td>\n",
       "      <td>0</td>\n",
       "      <td>Yes</td>\n",
       "      <td>Private</td>\n",
       "      <td>Urban</td>\n",
       "      <td>171.23</td>\n",
       "      <td>34.4</td>\n",
       "      <td>smokes</td>\n",
       "      <td>1</td>\n",
       "    </tr>\n",
       "    <tr>\n",
       "      <th>4</th>\n",
       "      <td>1665</td>\n",
       "      <td>Female</td>\n",
       "      <td>79.0</td>\n",
       "      <td>1</td>\n",
       "      <td>0</td>\n",
       "      <td>Yes</td>\n",
       "      <td>Self-employed</td>\n",
       "      <td>Rural</td>\n",
       "      <td>174.12</td>\n",
       "      <td>24.0</td>\n",
       "      <td>never smoked</td>\n",
       "      <td>1</td>\n",
       "    </tr>\n",
       "  </tbody>\n",
       "</table>\n",
       "</div>"
      ],
      "text/plain": [
       "      id  gender   age  hypertension  heart_disease ever_married  \\\n",
       "0   9046    Male  67.0             0              1          Yes   \n",
       "1  51676  Female  61.0             0              0          Yes   \n",
       "2  31112    Male  80.0             0              1          Yes   \n",
       "3  60182  Female  49.0             0              0          Yes   \n",
       "4   1665  Female  79.0             1              0          Yes   \n",
       "\n",
       "       work_type Residence_type  avg_glucose_level   bmi   smoking_status  \\\n",
       "0        Private          Urban             228.69  36.6  formerly smoked   \n",
       "1  Self-employed          Rural             202.21   NaN     never smoked   \n",
       "2        Private          Rural             105.92  32.5     never smoked   \n",
       "3        Private          Urban             171.23  34.4           smokes   \n",
       "4  Self-employed          Rural             174.12  24.0     never smoked   \n",
       "\n",
       "   stroke  \n",
       "0       1  \n",
       "1       1  \n",
       "2       1  \n",
       "3       1  \n",
       "4       1  "
      ]
     },
     "execution_count": 3,
     "metadata": {},
     "output_type": "execute_result"
    }
   ],
   "source": [
    "df.head()"
   ]
  },
  {
   "cell_type": "markdown",
   "id": "47fcb1dd",
   "metadata": {},
   "source": [
    "# Heatmap "
   ]
  },
  {
   "cell_type": "code",
   "execution_count": 4,
   "id": "fb58fe1a",
   "metadata": {},
   "outputs": [],
   "source": [
    "dfeda = df.drop(['id'], axis=1)"
   ]
  },
  {
   "cell_type": "code",
   "execution_count": 5,
   "id": "440d75a0",
   "metadata": {},
   "outputs": [
    {
     "data": {
      "text/plain": [
       "<AxesSubplot:>"
      ]
     },
     "execution_count": 5,
     "metadata": {},
     "output_type": "execute_result"
    },
    {
     "data": {
      "image/png": "[encoded data removed]",
      "text/plain": [
       "<Figure size 432x288 with 2 Axes>"
      ]
     },
     "metadata": {
      "needs_background": "light"
     },
     "output_type": "display_data"
    }
   ],
   "source": [
    "sns.heatmap(dfeda.corr())"
   ]
  },
  {
   "cell_type": "markdown",
   "id": "53416d9f",
   "metadata": {},
   "source": [
    "# Age"
   ]
  },
  {
   "cell_type": "code",
   "execution_count": 6,
   "id": "f4488561",
   "metadata": {},
   "outputs": [
    {
     "data": {
      "text/plain": [
       "(array([507., 518., 545., 747., 752., 813., 579., 649.]),\n",
       " array([8.000e-02, 1.032e+01, 2.056e+01, 3.080e+01, 4.104e+01, 5.128e+01,\n",
       "        6.152e+01, 7.176e+01, 8.200e+01]),\n",
       " <BarContainer object of 8 artists>)"
      ]
     },
     "execution_count": 6,
     "metadata": {},
     "output_type": "execute_result"
    },
    {
     "data": {
      "image/png": "[encoded data removed]",
      "text/plain": [
       "<Figure size 432x288 with 1 Axes>"
      ]
     },
     "metadata": {
      "needs_background": "light"
     },
     "output_type": "display_data"
    }
   ],
   "source": [
    "plt.hist(df['age'], bins=8)"
   ]
  },
  {
   "cell_type": "code",
   "execution_count": 7,
   "id": "cffbe16c",
   "metadata": {},
   "outputs": [],
   "source": [
    "stroke = df[df['stroke']==1]\n",
    "nostroke = df[df['stroke']==0]"
   ]
  },
  {
   "cell_type": "code",
   "execution_count": 8,
   "id": "6f66851a",
   "metadata": {},
   "outputs": [
    {
     "data": {
      "text/plain": [
       "(array([  1.,   1.,   0.,   6.,  19.,  51.,  50., 121.]),\n",
       " array([ 1.32 , 11.405, 21.49 , 31.575, 41.66 , 51.745, 61.83 , 71.915,\n",
       "        82.   ]),\n",
       " <BarContainer object of 8 artists>)"
      ]
     },
     "execution_count": 8,
     "metadata": {},
     "output_type": "execute_result"
    },
    {
     "data": {
      "image/png": "[encoded data removed]",
      "text/plain": [
       "<Figure size 432x288 with 1 Axes>"
      ]
     },
     "metadata": {
      "needs_background": "light"
     },
     "output_type": "display_data"
    }
   ],
   "source": [
    "plt.hist(stroke['age'], bins=8)"
   ]
  },
  {
   "cell_type": "code",
   "execution_count": 9,
   "id": "21c0a454",
   "metadata": {},
   "outputs": [
    {
     "data": {
      "text/plain": [
       "(array([506., 517., 545., 741., 733., 762., 529., 528.]),\n",
       " array([8.000e-02, 1.032e+01, 2.056e+01, 3.080e+01, 4.104e+01, 5.128e+01,\n",
       "        6.152e+01, 7.176e+01, 8.200e+01]),\n",
       " <BarContainer object of 8 artists>)"
      ]
     },
     "execution_count": 9,
     "metadata": {},
     "output_type": "execute_result"
    },
    {
     "data": {
      "image/png": "[encoded data removed]",
      "text/plain": [
       "<Figure size 432x288 with 1 Axes>"
      ]
     },
     "metadata": {
      "needs_background": "light"
     },
     "output_type": "display_data"
    }
   ],
   "source": [
    "plt.hist(nostroke['age'], bins=8)"
   ]
  },
  {
   "cell_type": "markdown",
   "id": "34b9b7ff",
   "metadata": {},
   "source": [
    "Age appears to be a relevant factor"
   ]
  },
  {
   "cell_type": "markdown",
   "id": "8cc805c0",
   "metadata": {},
   "source": [
    "# Avg_Glucose_Level"
   ]
  },
  {
   "cell_type": "code",
   "execution_count": 10,
   "id": "016cca4d",
   "metadata": {},
   "outputs": [
    {
     "data": {
      "text/plain": [
       "(array([1720., 1891.,  648.,  201.,  124.,  290.,  200.,   36.]),\n",
       " array([ 55.12  ,  82.1975, 109.275 , 136.3525, 163.43  , 190.5075,\n",
       "        217.585 , 244.6625, 271.74  ]),\n",
       " <BarContainer object of 8 artists>)"
      ]
     },
     "execution_count": 10,
     "metadata": {},
     "output_type": "execute_result"
    },
    {
     "data": {
      "image/png": "[encoded data removed]",
      "text/plain": [
       "<Figure size 432x288 with 1 Axes>"
      ]
     },
     "metadata": {
      "needs_background": "light"
     },
     "output_type": "display_data"
    }
   ],
   "source": [
    "plt.hist(df['avg_glucose_level'], bins=8)"
   ]
  },
  {
   "cell_type": "code",
   "execution_count": 11,
   "id": "d5bcbca4",
   "metadata": {},
   "outputs": [
    {
     "data": {
      "text/plain": [
       "(array([72., 60., 23.,  7., 17., 37., 26.,  7.]),\n",
       " array([ 56.11   ,  83.06375, 110.0175 , 136.97125, 163.925  , 190.87875,\n",
       "        217.8325 , 244.78625, 271.74   ]),\n",
       " <BarContainer object of 8 artists>)"
      ]
     },
     "execution_count": 11,
     "metadata": {},
     "output_type": "execute_result"
    },
    {
     "data": {
      "image/png": "[encoded data removed]",
      "text/plain": [
       "<Figure size 432x288 with 1 Axes>"
      ]
     },
     "metadata": {
      "needs_background": "light"
     },
     "output_type": "display_data"
    }
   ],
   "source": [
    "plt.hist(stroke['avg_glucose_level'], bins=8)"
   ]
  },
  {
   "cell_type": "code",
   "execution_count": 12,
   "id": "b34140f0",
   "metadata": {},
   "outputs": [
    {
     "data": {
      "text/plain": [
       "(array([1610., 1828.,  651.,  200.,  105.,  232.,  195.,   40.]),\n",
       " array([ 55.12,  81.7 , 108.28, 134.86, 161.44, 188.02, 214.6 , 241.18,\n",
       "        267.76]),\n",
       " <BarContainer object of 8 artists>)"
      ]
     },
     "execution_count": 12,
     "metadata": {},
     "output_type": "execute_result"
    },
    {
     "data": {
      "image/png": "[encoded data removed]",
      "text/plain": [
       "<Figure size 432x288 with 1 Axes>"
      ]
     },
     "metadata": {
      "needs_background": "light"
     },
     "output_type": "display_data"
    }
   ],
   "source": [
    "plt.hist(nostroke['avg_glucose_level'], bins=8)"
   ]
  },
  {
   "cell_type": "markdown",
   "id": "f076392c",
   "metadata": {},
   "source": [
    "Avg_Glucose_Level appears to be a relevant factor"
   ]
  },
  {
   "cell_type": "markdown",
   "id": "0d8858e4",
   "metadata": {},
   "source": [
    "# BMI"
   ]
  },
  {
   "cell_type": "code",
   "execution_count": 13,
   "id": "47528ac7",
   "metadata": {},
   "outputs": [
    {
     "data": {
      "text/plain": [
       "(array([7.420e+02, 2.751e+03, 1.178e+03, 1.930e+02, 4.000e+01, 2.000e+00,\n",
       "        1.000e+00, 2.000e+00]),\n",
       " array([10.3   , 21.2125, 32.125 , 43.0375, 53.95  , 64.8625, 75.775 ,\n",
       "        86.6875, 97.6   ]),\n",
       " <BarContainer object of 8 artists>)"
      ]
     },
     "execution_count": 13,
     "metadata": {},
     "output_type": "execute_result"
    },
    {
     "data": {
      "image/png": "[encoded data removed]",
      "text/plain": [
       "<Figure size 432x288 with 1 Axes>"
      ]
     },
     "metadata": {
      "needs_background": "light"
     },
     "output_type": "display_data"
    }
   ],
   "source": [
    "plt.hist(df['bmi'], bins=8)"
   ]
  },
  {
   "cell_type": "code",
   "execution_count": 14,
   "id": "ca711565",
   "metadata": {},
   "outputs": [
    {
     "data": {
      "text/plain": [
       "(array([12., 47., 80., 38., 19., 10.,  2.,  1.]),\n",
       " array([16.9   , 21.8625, 26.825 , 31.7875, 36.75  , 41.7125, 46.675 ,\n",
       "        51.6375, 56.6   ]),\n",
       " <BarContainer object of 8 artists>)"
      ]
     },
     "execution_count": 14,
     "metadata": {},
     "output_type": "execute_result"
    },
    {
     "data": {
      "image/png": "[encoded data removed]",
      "text/plain": [
       "<Figure size 432x288 with 1 Axes>"
      ]
     },
     "metadata": {
      "needs_background": "light"
     },
     "output_type": "display_data"
    }
   ],
   "source": [
    "plt.hist(stroke['bmi'], bins=8)"
   ]
  },
  {
   "cell_type": "code",
   "execution_count": 15,
   "id": "9498bab8",
   "metadata": {},
   "outputs": [
    {
     "data": {
      "text/plain": [
       "(array([7.400e+01, 6.600e+02, 1.244e+03, 1.371e+03, 7.630e+02, 3.600e+02,\n",
       "        1.320e+02, 5.200e+01, 3.000e+01, 9.000e+00, 1.000e+00, 1.000e+00,\n",
       "        1.000e+00, 0.000e+00, 1.000e+00, 1.000e+00]),\n",
       " array([10.3    , 15.75625, 21.2125 , 26.66875, 32.125  , 37.58125,\n",
       "        43.0375 , 48.49375, 53.95   , 59.40625, 64.8625 , 70.31875,\n",
       "        75.775  , 81.23125, 86.6875 , 92.14375, 97.6    ]),\n",
       " <BarContainer object of 16 artists>)"
      ]
     },
     "execution_count": 15,
     "metadata": {},
     "output_type": "execute_result"
    },
    {
     "data": {
      "image/png": "[encoded data removed]",
      "text/plain": [
       "<Figure size 432x288 with 1 Axes>"
      ]
     },
     "metadata": {
      "needs_background": "light"
     },
     "output_type": "display_data"
    }
   ],
   "source": [
    "plt.hist(nostroke['bmi'], bins=16)"
   ]
  },
  {
   "cell_type": "markdown",
   "id": "d34c05bd",
   "metadata": {},
   "source": [
    "BMI on its own does not appear to be a relevant factor"
   ]
  },
  {
   "cell_type": "markdown",
   "id": "1c2a4775",
   "metadata": {},
   "source": [
    "# Gender"
   ]
  },
  {
   "cell_type": "code",
   "execution_count": 16,
   "id": "5dddba89",
   "metadata": {},
   "outputs": [
    {
     "data": {
      "text/plain": [
       "Female    141\n",
       "Male      108\n",
       "Name: gender, dtype: int64"
      ]
     },
     "execution_count": 16,
     "metadata": {},
     "output_type": "execute_result"
    }
   ],
   "source": [
    "stroke['gender'].value_counts()"
   ]
  },
  {
   "cell_type": "code",
   "execution_count": 17,
   "id": "acf590b7",
   "metadata": {},
   "outputs": [
    {
     "data": {
      "text/plain": [
       "Female    2853\n",
       "Male      2007\n",
       "Other        1\n",
       "Name: gender, dtype: int64"
      ]
     },
     "execution_count": 17,
     "metadata": {},
     "output_type": "execute_result"
    }
   ],
   "source": [
    "nostroke['gender'].value_counts()"
   ]
  },
  {
   "cell_type": "markdown",
   "id": "7e7bcc86",
   "metadata": {},
   "source": [
    "Gender on its own does not appear to be a relevant factor"
   ]
  },
  {
   "cell_type": "markdown",
   "id": "edf0129a",
   "metadata": {},
   "source": [
    "# Hypertension "
   ]
  },
  {
   "cell_type": "code",
   "execution_count": 18,
   "id": "de2495f4",
   "metadata": {},
   "outputs": [
    {
     "data": {
      "text/plain": [
       "0    183\n",
       "1     66\n",
       "Name: hypertension, dtype: int64"
      ]
     },
     "execution_count": 18,
     "metadata": {},
     "output_type": "execute_result"
    }
   ],
   "source": [
    "stroke['hypertension'].value_counts()"
   ]
  },
  {
   "cell_type": "code",
   "execution_count": 19,
   "id": "5cc8bb0e",
   "metadata": {},
   "outputs": [
    {
     "data": {
      "text/plain": [
       "0    4429\n",
       "1     432\n",
       "Name: hypertension, dtype: int64"
      ]
     },
     "execution_count": 19,
     "metadata": {},
     "output_type": "execute_result"
    }
   ],
   "source": [
    "nostroke['hypertension'].value_counts()"
   ]
  },
  {
   "cell_type": "markdown",
   "id": "daaeae3b",
   "metadata": {},
   "source": [
    "Hypertension appears to be a relevant factor"
   ]
  },
  {
   "cell_type": "markdown",
   "id": "c6dc08ce",
   "metadata": {},
   "source": [
    "# Heart Disease"
   ]
  },
  {
   "cell_type": "code",
   "execution_count": 20,
   "id": "653dd047",
   "metadata": {},
   "outputs": [
    {
     "data": {
      "text/plain": [
       "0    202\n",
       "1     47\n",
       "Name: heart_disease, dtype: int64"
      ]
     },
     "execution_count": 20,
     "metadata": {},
     "output_type": "execute_result"
    }
   ],
   "source": [
    "stroke['heart_disease'].value_counts()"
   ]
  },
  {
   "cell_type": "code",
   "execution_count": 21,
   "id": "60c2063a",
   "metadata": {},
   "outputs": [
    {
     "data": {
      "text/plain": [
       "0    4632\n",
       "1     229\n",
       "Name: heart_disease, dtype: int64"
      ]
     },
     "execution_count": 21,
     "metadata": {},
     "output_type": "execute_result"
    }
   ],
   "source": [
    "nostroke['heart_disease'].value_counts()"
   ]
  },
  {
   "cell_type": "markdown",
   "id": "43322164",
   "metadata": {},
   "source": [
    "Heart Disease appears to be a relevant factor"
   ]
  },
  {
   "cell_type": "markdown",
   "id": "fe35fb47",
   "metadata": {},
   "source": [
    "# Ever Married"
   ]
  },
  {
   "cell_type": "code",
   "execution_count": 22,
   "id": "b120bf29",
   "metadata": {},
   "outputs": [
    {
     "data": {
      "text/plain": [
       "Yes    220\n",
       "No      29\n",
       "Name: ever_married, dtype: int64"
      ]
     },
     "execution_count": 22,
     "metadata": {},
     "output_type": "execute_result"
    }
   ],
   "source": [
    "stroke['ever_married'].value_counts()"
   ]
  },
  {
   "cell_type": "code",
   "execution_count": 23,
   "id": "29a2e158",
   "metadata": {},
   "outputs": [
    {
     "data": {
      "text/plain": [
       "Yes    3133\n",
       "No     1728\n",
       "Name: ever_married, dtype: int64"
      ]
     },
     "execution_count": 23,
     "metadata": {},
     "output_type": "execute_result"
    }
   ],
   "source": [
    "nostroke['ever_married'].value_counts()"
   ]
  },
  {
   "cell_type": "markdown",
   "id": "e315c40d",
   "metadata": {},
   "source": [
    "Ever Married appears to be a relevant factor"
   ]
  },
  {
   "cell_type": "markdown",
   "id": "d81a271c",
   "metadata": {},
   "source": [
    "# Work Type"
   ]
  },
  {
   "cell_type": "code",
   "execution_count": 24,
   "id": "302696da",
   "metadata": {},
   "outputs": [
    {
     "data": {
      "text/plain": [
       "Private          149\n",
       "Self-employed     65\n",
       "Govt_job          33\n",
       "children           2\n",
       "Name: work_type, dtype: int64"
      ]
     },
     "execution_count": 24,
     "metadata": {},
     "output_type": "execute_result"
    }
   ],
   "source": [
    "stroke['work_type'].value_counts()"
   ]
  },
  {
   "cell_type": "code",
   "execution_count": 25,
   "id": "b17be895",
   "metadata": {},
   "outputs": [
    {
     "data": {
      "text/plain": [
       "Private          2776\n",
       "Self-employed     754\n",
       "children          685\n",
       "Govt_job          624\n",
       "Never_worked       22\n",
       "Name: work_type, dtype: int64"
      ]
     },
     "execution_count": 25,
     "metadata": {},
     "output_type": "execute_result"
    }
   ],
   "source": [
    "nostroke['work_type'].value_counts()"
   ]
  },
  {
   "cell_type": "markdown",
   "id": "e9306264",
   "metadata": {},
   "source": [
    "Work Type on its own does not appear to be a relevant factor (except for children)"
   ]
  },
  {
   "cell_type": "markdown",
   "id": "da01cd06",
   "metadata": {},
   "source": [
    "# Residence Type"
   ]
  },
  {
   "cell_type": "code",
   "execution_count": 26,
   "id": "29344356",
   "metadata": {},
   "outputs": [
    {
     "data": {
      "text/plain": [
       "Urban    135\n",
       "Rural    114\n",
       "Name: Residence_type, dtype: int64"
      ]
     },
     "execution_count": 26,
     "metadata": {},
     "output_type": "execute_result"
    }
   ],
   "source": [
    "stroke['Residence_type'].value_counts()"
   ]
  },
  {
   "cell_type": "code",
   "execution_count": 27,
   "id": "c3a2fefa",
   "metadata": {},
   "outputs": [
    {
     "data": {
      "text/plain": [
       "Urban    2461\n",
       "Rural    2400\n",
       "Name: Residence_type, dtype: int64"
      ]
     },
     "execution_count": 27,
     "metadata": {},
     "output_type": "execute_result"
    }
   ],
   "source": [
    "nostroke['Residence_type'].value_counts()"
   ]
  },
  {
   "cell_type": "markdown",
   "id": "124ce4a2",
   "metadata": {},
   "source": [
    "Residence Type on its own does not appear to be a relevant factor"
   ]
  },
  {
   "cell_type": "markdown",
   "id": "cf1c6bce",
   "metadata": {},
   "source": [
    "# Smoking Status"
   ]
  },
  {
   "cell_type": "code",
   "execution_count": 28,
   "id": "c368e340",
   "metadata": {},
   "outputs": [
    {
     "data": {
      "text/plain": [
       "never smoked       90\n",
       "formerly smoked    70\n",
       "Unknown            47\n",
       "smokes             42\n",
       "Name: smoking_status, dtype: int64"
      ]
     },
     "execution_count": 28,
     "metadata": {},
     "output_type": "execute_result"
    }
   ],
   "source": [
    "stroke['smoking_status'].value_counts()"
   ]
  },
  {
   "cell_type": "code",
   "execution_count": 29,
   "id": "282e10ce",
   "metadata": {},
   "outputs": [
    {
     "data": {
      "text/plain": [
       "never smoked       1802\n",
       "Unknown            1497\n",
       "formerly smoked     815\n",
       "smokes              747\n",
       "Name: smoking_status, dtype: int64"
      ]
     },
     "execution_count": 29,
     "metadata": {},
     "output_type": "execute_result"
    }
   ],
   "source": [
    "nostroke['smoking_status'].value_counts()"
   ]
  },
  {
   "cell_type": "markdown",
   "id": "95497a27",
   "metadata": {},
   "source": [
    "Individuals who used to smoke appear to have a higher risk of stroke than those with other smoking statuses"
   ]
  },
  {
   "cell_type": "code",
   "execution_count": null,
   "id": "d74e344b",
   "metadata": {},
   "outputs": [],
   "source": []
  }
 ],
 "metadata": {
  "kernelspec": {
   "display_name": "Python 3",
   "language": "python",
   "name": "python3"
  },
  "language_info": {
   "codemirror_mode": {
    "name": "ipython",
    "version": 3
   },
   "file_extension": ".py",
   "mimetype": "text/x-python",
   "name": "python",
   "nbconvert_exporter": "python",
   "pygments_lexer": "ipython3",
   "version": "3.7.3"
  }
 },
 "nbformat": 4,
 "nbformat_minor": 5
}
