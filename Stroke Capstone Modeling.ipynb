{
 "cells": [
  {
   "cell_type": "code",
   "execution_count": 17,
   "id": "7fa36dbb",
   "metadata": {},
   "outputs": [
    {
     "name": "stdout",
     "output_type": "stream",
     "text": [
      "Collecting imblearn\n",
      "  Downloading imblearn-0.0-py2.py3-none-any.whl (1.9 kB)\n",
      "Collecting imbalanced-learn\n",
      "  Downloading imbalanced_learn-0.8.0-py3-none-any.whl (206 kB)\n",
      "\u001b[K     |████████████████████████████████| 206 kB 1.8 MB/s eta 0:00:01\n",
      "\u001b[?25hRequirement already satisfied: joblib>=0.11 in /Users/ryan/anaconda3/lib/python3.7/site-packages (from imbalanced-learn->imblearn) (1.0.1)\n",
      "Requirement already satisfied: scikit-learn>=0.24 in /Users/ryan/anaconda3/lib/python3.7/site-packages (from imbalanced-learn->imblearn) (0.24.2)\n",
      "Requirement already satisfied: numpy>=1.13.3 in /Users/ryan/anaconda3/lib/python3.7/site-packages (from imbalanced-learn->imblearn) (1.20.3)\n",
      "Requirement already satisfied: scipy>=0.19.1 in /Users/ryan/anaconda3/lib/python3.7/site-packages (from imbalanced-learn->imblearn) (1.6.2)\n",
      "Requirement already satisfied: threadpoolctl>=2.0.0 in /Users/ryan/anaconda3/lib/python3.7/site-packages (from scikit-learn>=0.24->imbalanced-learn->imblearn) (2.2.0)\n",
      "Installing collected packages: imbalanced-learn, imblearn\n",
      "Successfully installed imbalanced-learn-0.8.0 imblearn-0.0\n",
      "Note: you may need to restart the kernel to use updated packages.\n"
     ]
    }
   ],
   "source": [
    "pip install imblearn"
   ]
  },
  {
   "cell_type": "code",
   "execution_count": 1,
   "id": "1b3a9869",
   "metadata": {},
   "outputs": [],
   "source": [
    "import pandas as pd\n",
    "import numpy as np\n",
    "import os\n",
    "import pickle\n",
    "import matplotlib.pyplot as plt\n",
    "import seaborn as sns\n",
    "from sklearn import __version__ as sklearn_version\n",
    "from sklearn.decomposition import PCA\n",
    "from sklearn.preprocessing import scale\n",
    "from sklearn.model_selection import train_test_split, cross_validate, GridSearchCV, learning_curve\n",
    "from sklearn.preprocessing import StandardScaler, MinMaxScaler, OneHotEncoder, PolynomialFeatures \n",
    "from sklearn.dummy import DummyRegressor\n",
    "from sklearn.ensemble import RandomForestRegressor\n",
    "from sklearn.metrics import r2_score, mean_squared_error, mean_absolute_error, classification_report\n",
    "from sklearn.metrics import confusion_matrix, matthews_corrcoef, precision_recall_curve\n",
    "from sklearn.metrics import accuracy_score, precision_score, recall_score, f1_score, average_precision_score\n",
    "from sklearn.pipeline import make_pipeline\n",
    "from sklearn.impute import SimpleImputer\n",
    "from sklearn.feature_selection import SelectKBest, f_regression\n",
    "from imblearn.pipeline import Pipeline\n",
    "import datetime\n",
    "from sklearn.compose import ColumnTransformer\n",
    "from sklearn.linear_model  import LogisticRegression\n",
    "from imblearn.over_sampling import SMOTE\n",
    "from imblearn.pipeline import Pipeline"
   ]
  },
  {
   "cell_type": "code",
   "execution_count": 2,
   "id": "230df793",
   "metadata": {},
   "outputs": [],
   "source": [
    "df = pd.read_csv('df_preprocessed.csv')"
   ]
  },
  {
   "cell_type": "markdown",
   "id": "2546c6cd",
   "metadata": {},
   "source": [
    "Some housekeeping..."
   ]
  },
  {
   "cell_type": "code",
   "execution_count": 3,
   "id": "7cb98c28",
   "metadata": {},
   "outputs": [
    {
     "data": {
      "text/html": [
       "<div>\n",
       "<style scoped>\n",
       "    .dataframe tbody tr th:only-of-type {\n",
       "        vertical-align: middle;\n",
       "    }\n",
       "\n",
       "    .dataframe tbody tr th {\n",
       "        vertical-align: top;\n",
       "    }\n",
       "\n",
       "    .dataframe thead th {\n",
       "        text-align: right;\n",
       "    }\n",
       "</style>\n",
       "<table border=\"1\" class=\"dataframe\">\n",
       "  <thead>\n",
       "    <tr style=\"text-align: right;\">\n",
       "      <th></th>\n",
       "      <th>Unnamed: 0</th>\n",
       "      <th>id</th>\n",
       "      <th>age</th>\n",
       "      <th>hypertension</th>\n",
       "      <th>heart_disease</th>\n",
       "      <th>avg_glucose_level</th>\n",
       "      <th>bmi</th>\n",
       "      <th>stroke</th>\n",
       "      <th>Female</th>\n",
       "      <th>Male</th>\n",
       "      <th>...</th>\n",
       "      <th>Govt_job</th>\n",
       "      <th>Never_worked</th>\n",
       "      <th>Private</th>\n",
       "      <th>Self-employed</th>\n",
       "      <th>children</th>\n",
       "      <th>Rural</th>\n",
       "      <th>Urban</th>\n",
       "      <th>formerly smoked</th>\n",
       "      <th>never smoked</th>\n",
       "      <th>smokes</th>\n",
       "    </tr>\n",
       "  </thead>\n",
       "  <tbody>\n",
       "    <tr>\n",
       "      <th>0</th>\n",
       "      <td>0</td>\n",
       "      <td>9046</td>\n",
       "      <td>67.0</td>\n",
       "      <td>0</td>\n",
       "      <td>1</td>\n",
       "      <td>228.69</td>\n",
       "      <td>36.6</td>\n",
       "      <td>1</td>\n",
       "      <td>0</td>\n",
       "      <td>1</td>\n",
       "      <td>...</td>\n",
       "      <td>0</td>\n",
       "      <td>0</td>\n",
       "      <td>1</td>\n",
       "      <td>0</td>\n",
       "      <td>0</td>\n",
       "      <td>0</td>\n",
       "      <td>1</td>\n",
       "      <td>1</td>\n",
       "      <td>0</td>\n",
       "      <td>0</td>\n",
       "    </tr>\n",
       "    <tr>\n",
       "      <th>1</th>\n",
       "      <td>1</td>\n",
       "      <td>51676</td>\n",
       "      <td>61.0</td>\n",
       "      <td>0</td>\n",
       "      <td>0</td>\n",
       "      <td>202.21</td>\n",
       "      <td>NaN</td>\n",
       "      <td>1</td>\n",
       "      <td>1</td>\n",
       "      <td>0</td>\n",
       "      <td>...</td>\n",
       "      <td>0</td>\n",
       "      <td>0</td>\n",
       "      <td>0</td>\n",
       "      <td>1</td>\n",
       "      <td>0</td>\n",
       "      <td>1</td>\n",
       "      <td>0</td>\n",
       "      <td>0</td>\n",
       "      <td>1</td>\n",
       "      <td>0</td>\n",
       "    </tr>\n",
       "    <tr>\n",
       "      <th>2</th>\n",
       "      <td>2</td>\n",
       "      <td>31112</td>\n",
       "      <td>80.0</td>\n",
       "      <td>0</td>\n",
       "      <td>1</td>\n",
       "      <td>105.92</td>\n",
       "      <td>32.5</td>\n",
       "      <td>1</td>\n",
       "      <td>0</td>\n",
       "      <td>1</td>\n",
       "      <td>...</td>\n",
       "      <td>0</td>\n",
       "      <td>0</td>\n",
       "      <td>1</td>\n",
       "      <td>0</td>\n",
       "      <td>0</td>\n",
       "      <td>1</td>\n",
       "      <td>0</td>\n",
       "      <td>0</td>\n",
       "      <td>1</td>\n",
       "      <td>0</td>\n",
       "    </tr>\n",
       "    <tr>\n",
       "      <th>3</th>\n",
       "      <td>3</td>\n",
       "      <td>60182</td>\n",
       "      <td>49.0</td>\n",
       "      <td>0</td>\n",
       "      <td>0</td>\n",
       "      <td>171.23</td>\n",
       "      <td>34.4</td>\n",
       "      <td>1</td>\n",
       "      <td>1</td>\n",
       "      <td>0</td>\n",
       "      <td>...</td>\n",
       "      <td>0</td>\n",
       "      <td>0</td>\n",
       "      <td>1</td>\n",
       "      <td>0</td>\n",
       "      <td>0</td>\n",
       "      <td>0</td>\n",
       "      <td>1</td>\n",
       "      <td>0</td>\n",
       "      <td>0</td>\n",
       "      <td>1</td>\n",
       "    </tr>\n",
       "    <tr>\n",
       "      <th>4</th>\n",
       "      <td>4</td>\n",
       "      <td>1665</td>\n",
       "      <td>79.0</td>\n",
       "      <td>1</td>\n",
       "      <td>0</td>\n",
       "      <td>174.12</td>\n",
       "      <td>24.0</td>\n",
       "      <td>1</td>\n",
       "      <td>1</td>\n",
       "      <td>0</td>\n",
       "      <td>...</td>\n",
       "      <td>0</td>\n",
       "      <td>0</td>\n",
       "      <td>0</td>\n",
       "      <td>1</td>\n",
       "      <td>0</td>\n",
       "      <td>1</td>\n",
       "      <td>0</td>\n",
       "      <td>0</td>\n",
       "      <td>1</td>\n",
       "      <td>0</td>\n",
       "    </tr>\n",
       "  </tbody>\n",
       "</table>\n",
       "<p>5 rows × 22 columns</p>\n",
       "</div>"
      ],
      "text/plain": [
       "   Unnamed: 0     id   age  hypertension  heart_disease  avg_glucose_level  \\\n",
       "0           0   9046  67.0             0              1             228.69   \n",
       "1           1  51676  61.0             0              0             202.21   \n",
       "2           2  31112  80.0             0              1             105.92   \n",
       "3           3  60182  49.0             0              0             171.23   \n",
       "4           4   1665  79.0             1              0             174.12   \n",
       "\n",
       "    bmi  stroke  Female  Male  ...  Govt_job  Never_worked  Private  \\\n",
       "0  36.6       1       0     1  ...         0             0        1   \n",
       "1   NaN       1       1     0  ...         0             0        0   \n",
       "2  32.5       1       0     1  ...         0             0        1   \n",
       "3  34.4       1       1     0  ...         0             0        1   \n",
       "4  24.0       1       1     0  ...         0             0        0   \n",
       "\n",
       "   Self-employed  children  Rural  Urban  formerly smoked  never smoked  \\\n",
       "0              0         0      0      1                1             0   \n",
       "1              1         0      1      0                0             1   \n",
       "2              0         0      1      0                0             1   \n",
       "3              0         0      0      1                0             0   \n",
       "4              1         0      1      0                0             1   \n",
       "\n",
       "   smokes  \n",
       "0       0  \n",
       "1       0  \n",
       "2       0  \n",
       "3       1  \n",
       "4       0  \n",
       "\n",
       "[5 rows x 22 columns]"
      ]
     },
     "execution_count": 3,
     "metadata": {},
     "output_type": "execute_result"
    }
   ],
   "source": [
    "df.head()"
   ]
  },
  {
   "cell_type": "code",
   "execution_count": 4,
   "id": "031f94ae",
   "metadata": {},
   "outputs": [],
   "source": [
    "df = df.drop(['Unnamed: 0', 'id'], axis=1)"
   ]
  },
  {
   "cell_type": "code",
   "execution_count": 5,
   "id": "e9684c06",
   "metadata": {},
   "outputs": [
    {
     "data": {
      "text/plain": [
       "Index(['age', 'hypertension', 'heart_disease', 'avg_glucose_level', 'bmi',\n",
       "       'stroke', 'Female', 'Male', 'No', 'Yes', 'Govt_job', 'Never_worked',\n",
       "       'Private', 'Self-employed', 'children', 'Rural', 'Urban',\n",
       "       'formerly smoked', 'never smoked', 'smokes'],\n",
       "      dtype='object')"
      ]
     },
     "execution_count": 5,
     "metadata": {},
     "output_type": "execute_result"
    }
   ],
   "source": [
    "df.columns"
   ]
  },
  {
   "cell_type": "code",
   "execution_count": 6,
   "id": "d549ecc8",
   "metadata": {},
   "outputs": [
    {
     "data": {
      "text/html": [
       "<div>\n",
       "<style scoped>\n",
       "    .dataframe tbody tr th:only-of-type {\n",
       "        vertical-align: middle;\n",
       "    }\n",
       "\n",
       "    .dataframe tbody tr th {\n",
       "        vertical-align: top;\n",
       "    }\n",
       "\n",
       "    .dataframe thead th {\n",
       "        text-align: right;\n",
       "    }\n",
       "</style>\n",
       "<table border=\"1\" class=\"dataframe\">\n",
       "  <thead>\n",
       "    <tr style=\"text-align: right;\">\n",
       "      <th></th>\n",
       "      <th>age</th>\n",
       "      <th>hypertension</th>\n",
       "      <th>heart_disease</th>\n",
       "      <th>avg_glucose_level</th>\n",
       "      <th>bmi</th>\n",
       "      <th>stroke</th>\n",
       "      <th>Female</th>\n",
       "      <th>Male</th>\n",
       "      <th>No</th>\n",
       "      <th>Yes</th>\n",
       "      <th>Govt_job</th>\n",
       "      <th>Never_worked</th>\n",
       "      <th>Private</th>\n",
       "      <th>Self-employed</th>\n",
       "      <th>children</th>\n",
       "      <th>Rural</th>\n",
       "      <th>Urban</th>\n",
       "      <th>formerly smoked</th>\n",
       "      <th>never smoked</th>\n",
       "      <th>smokes</th>\n",
       "    </tr>\n",
       "  </thead>\n",
       "  <tbody>\n",
       "    <tr>\n",
       "      <th>0</th>\n",
       "      <td>67.0</td>\n",
       "      <td>0</td>\n",
       "      <td>1</td>\n",
       "      <td>228.69</td>\n",
       "      <td>36.6</td>\n",
       "      <td>1</td>\n",
       "      <td>0</td>\n",
       "      <td>1</td>\n",
       "      <td>0</td>\n",
       "      <td>1</td>\n",
       "      <td>0</td>\n",
       "      <td>0</td>\n",
       "      <td>1</td>\n",
       "      <td>0</td>\n",
       "      <td>0</td>\n",
       "      <td>0</td>\n",
       "      <td>1</td>\n",
       "      <td>1</td>\n",
       "      <td>0</td>\n",
       "      <td>0</td>\n",
       "    </tr>\n",
       "    <tr>\n",
       "      <th>1</th>\n",
       "      <td>61.0</td>\n",
       "      <td>0</td>\n",
       "      <td>0</td>\n",
       "      <td>202.21</td>\n",
       "      <td>NaN</td>\n",
       "      <td>1</td>\n",
       "      <td>1</td>\n",
       "      <td>0</td>\n",
       "      <td>0</td>\n",
       "      <td>1</td>\n",
       "      <td>0</td>\n",
       "      <td>0</td>\n",
       "      <td>0</td>\n",
       "      <td>1</td>\n",
       "      <td>0</td>\n",
       "      <td>1</td>\n",
       "      <td>0</td>\n",
       "      <td>0</td>\n",
       "      <td>1</td>\n",
       "      <td>0</td>\n",
       "    </tr>\n",
       "    <tr>\n",
       "      <th>2</th>\n",
       "      <td>80.0</td>\n",
       "      <td>0</td>\n",
       "      <td>1</td>\n",
       "      <td>105.92</td>\n",
       "      <td>32.5</td>\n",
       "      <td>1</td>\n",
       "      <td>0</td>\n",
       "      <td>1</td>\n",
       "      <td>0</td>\n",
       "      <td>1</td>\n",
       "      <td>0</td>\n",
       "      <td>0</td>\n",
       "      <td>1</td>\n",
       "      <td>0</td>\n",
       "      <td>0</td>\n",
       "      <td>1</td>\n",
       "      <td>0</td>\n",
       "      <td>0</td>\n",
       "      <td>1</td>\n",
       "      <td>0</td>\n",
       "    </tr>\n",
       "    <tr>\n",
       "      <th>3</th>\n",
       "      <td>49.0</td>\n",
       "      <td>0</td>\n",
       "      <td>0</td>\n",
       "      <td>171.23</td>\n",
       "      <td>34.4</td>\n",
       "      <td>1</td>\n",
       "      <td>1</td>\n",
       "      <td>0</td>\n",
       "      <td>0</td>\n",
       "      <td>1</td>\n",
       "      <td>0</td>\n",
       "      <td>0</td>\n",
       "      <td>1</td>\n",
       "      <td>0</td>\n",
       "      <td>0</td>\n",
       "      <td>0</td>\n",
       "      <td>1</td>\n",
       "      <td>0</td>\n",
       "      <td>0</td>\n",
       "      <td>1</td>\n",
       "    </tr>\n",
       "    <tr>\n",
       "      <th>4</th>\n",
       "      <td>79.0</td>\n",
       "      <td>1</td>\n",
       "      <td>0</td>\n",
       "      <td>174.12</td>\n",
       "      <td>24.0</td>\n",
       "      <td>1</td>\n",
       "      <td>1</td>\n",
       "      <td>0</td>\n",
       "      <td>0</td>\n",
       "      <td>1</td>\n",
       "      <td>0</td>\n",
       "      <td>0</td>\n",
       "      <td>0</td>\n",
       "      <td>1</td>\n",
       "      <td>0</td>\n",
       "      <td>1</td>\n",
       "      <td>0</td>\n",
       "      <td>0</td>\n",
       "      <td>1</td>\n",
       "      <td>0</td>\n",
       "    </tr>\n",
       "  </tbody>\n",
       "</table>\n",
       "</div>"
      ],
      "text/plain": [
       "    age  hypertension  heart_disease  avg_glucose_level   bmi  stroke  Female  \\\n",
       "0  67.0             0              1             228.69  36.6       1       0   \n",
       "1  61.0             0              0             202.21   NaN       1       1   \n",
       "2  80.0             0              1             105.92  32.5       1       0   \n",
       "3  49.0             0              0             171.23  34.4       1       1   \n",
       "4  79.0             1              0             174.12  24.0       1       1   \n",
       "\n",
       "   Male  No  Yes  Govt_job  Never_worked  Private  Self-employed  children  \\\n",
       "0     1   0    1         0             0        1              0         0   \n",
       "1     0   0    1         0             0        0              1         0   \n",
       "2     1   0    1         0             0        1              0         0   \n",
       "3     0   0    1         0             0        1              0         0   \n",
       "4     0   0    1         0             0        0              1         0   \n",
       "\n",
       "   Rural  Urban  formerly smoked  never smoked  smokes  \n",
       "0      0      1                1             0       0  \n",
       "1      1      0                0             1       0  \n",
       "2      1      0                0             1       0  \n",
       "3      0      1                0             0       1  \n",
       "4      1      0                0             1       0  "
      ]
     },
     "execution_count": 6,
     "metadata": {},
     "output_type": "execute_result"
    }
   ],
   "source": [
    "df.head()"
   ]
  },
  {
   "cell_type": "markdown",
   "id": "0ddfac83",
   "metadata": {},
   "source": [
    "# Initial Logistic Regression"
   ]
  },
  {
   "cell_type": "code",
   "execution_count": 7,
   "id": "cc921f9b",
   "metadata": {},
   "outputs": [],
   "source": [
    "#numerical_features = ['age', 'avg_glucose_level', 'bmi']"
   ]
  },
  {
   "cell_type": "code",
   "execution_count": 8,
   "id": "0a196c80",
   "metadata": {},
   "outputs": [],
   "source": [
    "#categorical_features = ['hypertension', 'heart_disease', 'Female', 'Male', 'No', 'Yes', 'Govt_job', 'Never_worked', 'Private', 'Self-employed', 'children',\n",
    "       #'Rural', 'Urban', 'formerly smoked', 'never smoked', 'smokes']"
   ]
  },
  {
   "cell_type": "code",
   "execution_count": 9,
   "id": "cd48ce64",
   "metadata": {},
   "outputs": [],
   "source": [
    "#numeric_transformer = Pipeline(steps=[('poly',PolynomialFeatures(degree = 2)),('scaler', MinMaxScaler())])\n",
    "#imp = SimpleImputer(strategy='median')"
   ]
  },
  {
   "cell_type": "code",
   "execution_count": 10,
   "id": "1cf11c70",
   "metadata": {},
   "outputs": [],
   "source": [
    "#categorical_transformer = Pipeline(steps=[\n",
    "    #('onehot', OneHotEncoder(handle_unknown='ignore'))])"
   ]
  },
  {
   "cell_type": "code",
   "execution_count": 11,
   "id": "739e7fb9",
   "metadata": {},
   "outputs": [],
   "source": [
    "#preprocessor = ColumnTransformer(\n",
    "    #transformers=[\n",
    "        #('num', numeric_transformer, imp, numerical_features),\n",
    "        #('cat', categorical_transformer, categorical_features)])"
   ]
  },
  {
   "cell_type": "markdown",
   "id": "1dbd4587",
   "metadata": {},
   "source": [
    "First, we will use a logistic regression model to fit the data, while imputing the median for missing BMI values."
   ]
  },
  {
   "cell_type": "code",
   "execution_count": 12,
   "id": "45957488",
   "metadata": {},
   "outputs": [],
   "source": [
    "X_train, X_test, y_train, y_test = train_test_split(df.drop(columns='stroke'), \n",
    "                                                    df.stroke, test_size=0.3)"
   ]
  },
  {
   "cell_type": "code",
   "execution_count": 13,
   "id": "e207c4f7",
   "metadata": {},
   "outputs": [],
   "source": [
    "scaler = MinMaxScaler()\n",
    "imp = SimpleImputer(strategy='median')\n",
    "X_train_transformed = imp.fit_transform(X_train)\n",
    "X_train_transformed = scaler.fit_transform(X_train_transformed)\n",
    "X_test_transformed = imp.transform(X_test)\n",
    "X_test_transformed = scaler.transform(X_test_transformed)"
   ]
  },
  {
   "cell_type": "code",
   "execution_count": 14,
   "id": "e86090d4",
   "metadata": {},
   "outputs": [],
   "source": [
    "lr = LogisticRegression(max_iter=10000)\n",
    "clf = Pipeline([('lr', lr)])\n",
    "clf.fit(X_train_transformed, y_train)\n",
    "model_res = clf.fit(X_train_transformed, y_train)\n",
    "y_pred = model_res.predict(X_test_transformed)\n",
    "y_pred_prob = model_res.predict_proba(X_test_transformed)"
   ]
  },
  {
   "cell_type": "code",
   "execution_count": 15,
   "id": "6c6e2fb5",
   "metadata": {},
   "outputs": [
    {
     "name": "stdout",
     "output_type": "stream",
     "text": [
      "Logistic Regression: Accuracy = 0.957\n",
      "Logistic Regression: f1-score = 0.937\n"
     ]
    }
   ],
   "source": [
    "ac = accuracy_score(y_test, y_pred)\n",
    "\n",
    "f1 = f1_score(y_test, y_pred, average='weighted')\n",
    "cm = confusion_matrix(y_test, y_pred)\n",
    "\n",
    "print('Logistic Regression: Accuracy = %.3f' % (ac))\n",
    "\n",
    "print('Logistic Regression: f1-score = %.3f' % (f1))"
   ]
  },
  {
   "cell_type": "code",
   "execution_count": 16,
   "id": "75213fe3",
   "metadata": {},
   "outputs": [
    {
     "data": {
      "text/plain": [
       "array([[1465,    0],\n",
       "       [  66,    2]])"
      ]
     },
     "execution_count": 16,
     "metadata": {},
     "output_type": "execute_result"
    }
   ],
   "source": [
    "cm"
   ]
  },
  {
   "cell_type": "code",
   "execution_count": 17,
   "id": "be044f56",
   "metadata": {},
   "outputs": [
    {
     "name": "stdout",
     "output_type": "stream",
     "text": [
      "              precision    recall  f1-score   support\n",
      "\n",
      "           0       0.96      1.00      0.98      1465\n",
      "           1       1.00      0.03      0.06        68\n",
      "\n",
      "    accuracy                           0.96      1533\n",
      "   macro avg       0.98      0.51      0.52      1533\n",
      "weighted avg       0.96      0.96      0.94      1533\n",
      "\n"
     ]
    }
   ],
   "source": [
    "print(classification_report(y_test, y_pred, target_names=['0', '1']))"
   ]
  },
  {
   "cell_type": "code",
   "execution_count": 18,
   "id": "2540bc74",
   "metadata": {},
   "outputs": [
    {
     "data": {
      "image/png": "[encoded data removed]",
      "text/plain": [
       "<Figure size 432x288 with 1 Axes>"
      ]
     },
     "metadata": {
      "needs_background": "light"
     },
     "output_type": "display_data"
    }
   ],
   "source": [
    "import sklearn.metrics as metrics\n",
    "# calculate the fpr and tpr for all thresholds of the classification\n",
    "probs = clf.predict_proba(X_test_transformed)\n",
    "preds = probs[:,1]\n",
    "fpr, tpr, threshold = metrics.roc_curve(y_test, preds)\n",
    "roc_auc = metrics.auc(fpr, tpr)\n",
    "\n",
    "import matplotlib.pyplot as plt\n",
    "plt.title('Receiver Operating Characteristic')\n",
    "plt.plot(fpr, tpr, 'b', label = 'AUC = %0.2f' % roc_auc)\n",
    "plt.legend(loc = 'lower right')\n",
    "plt.plot([0, 1], [0, 1],'r--')\n",
    "plt.xlim([0, 1])\n",
    "plt.ylim([0, 1])\n",
    "plt.ylabel('True Positive Rate')\n",
    "plt.xlabel('False Positive Rate')\n",
    "plt.show()"
   ]
  },
  {
   "cell_type": "code",
   "execution_count": 19,
   "id": "f8dd7050",
   "metadata": {},
   "outputs": [
    {
     "name": "stdout",
     "output_type": "stream",
     "text": [
      "Logistic Regression: average_precision_score = 0.072\n"
     ]
    }
   ],
   "source": [
    "aps = average_precision_score(y_test, y_pred)\n",
    "print('Logistic Regression: average_precision_score = %.3f' % (aps))"
   ]
  },
  {
   "cell_type": "code",
   "execution_count": 20,
   "id": "934abb54",
   "metadata": {},
   "outputs": [
    {
     "name": "stdout",
     "output_type": "stream",
     "text": [
      "Matthews Correlation Coefficient: matthews correlation coefficient = 0.168\n"
     ]
    }
   ],
   "source": [
    "mcc = matthews_corrcoef(y_test, y_pred)\n",
    "print('Matthews Correlation Coefficient: matthews correlation coefficient = %.3f' % (mcc))"
   ]
  },
  {
   "cell_type": "markdown",
   "id": "a8615728",
   "metadata": {},
   "source": [
    "Our initial and hyperparameter-less logistic regression model only predicts negative cases, which makes it worthless in spite of its high overall accuracy and F1 scores."
   ]
  },
  {
   "cell_type": "markdown",
   "id": "db70389d",
   "metadata": {},
   "source": [
    "# Random Forest"
   ]
  },
  {
   "cell_type": "markdown",
   "id": "d1f507de",
   "metadata": {},
   "source": [
    "Next, we will use a random forest model to fit the data, while again imputing the median for missing BMI values."
   ]
  },
  {
   "cell_type": "code",
   "execution_count": 21,
   "id": "336ba6f2",
   "metadata": {},
   "outputs": [],
   "source": [
    "X_train, X_test, y_train, y_test = train_test_split(df.drop(columns='stroke'), \n",
    "                                                    df.stroke, test_size=0.3)\n",
    "scaler = MinMaxScaler()\n",
    "imp = SimpleImputer(strategy='median')\n",
    "X_train_transformed = imp.fit_transform(X_train)\n",
    "X_train_transformed = scaler.fit_transform(X_train_transformed)\n",
    "X_test_transformed = imp.transform(X_test)\n",
    "X_test_transformed = scaler.transform(X_test_transformed)"
   ]
  },
  {
   "cell_type": "code",
   "execution_count": 22,
   "id": "b37cc413",
   "metadata": {},
   "outputs": [
    {
     "name": "stdout",
     "output_type": "stream",
     "text": [
      "Random Forest: Accuracy=0.950\n",
      "Random Forest: f1-score=0.926\n"
     ]
    }
   ],
   "source": [
    "from sklearn.ensemble import RandomForestClassifier\n",
    "rfc = RandomForestClassifier(n_estimators=300, random_state = 1,n_jobs=-1)\n",
    "clf = Pipeline([('rfc', rfc)])\n",
    "model_res = clf.fit(X_train_transformed, y_train)\n",
    "y_pred = model_res.predict(X_test_transformed)\n",
    "y_pred_prob = model_res.predict_proba(X_test_transformed)\n",
    "ac = accuracy_score(y_test, y_pred)\n",
    "\n",
    "f1 = f1_score(y_test, y_pred, average='weighted')\n",
    "cm = confusion_matrix(y_test, y_pred)\n",
    "\n",
    "print('Random Forest: Accuracy=%.3f' % (ac))\n",
    "\n",
    "print('Random Forest: f1-score=%.3f' % (f1))"
   ]
  },
  {
   "cell_type": "code",
   "execution_count": 23,
   "id": "e05a805a",
   "metadata": {},
   "outputs": [
    {
     "data": {
      "text/plain": [
       "array([[1456,    1],\n",
       "       [  76,    0]])"
      ]
     },
     "execution_count": 23,
     "metadata": {},
     "output_type": "execute_result"
    }
   ],
   "source": [
    "cm"
   ]
  },
  {
   "cell_type": "code",
   "execution_count": 24,
   "id": "8019db2f",
   "metadata": {},
   "outputs": [
    {
     "name": "stdout",
     "output_type": "stream",
     "text": [
      "              precision    recall  f1-score   support\n",
      "\n",
      "           0       0.95      1.00      0.97      1457\n",
      "           1       0.00      0.00      0.00        76\n",
      "\n",
      "    accuracy                           0.95      1533\n",
      "   macro avg       0.48      0.50      0.49      1533\n",
      "weighted avg       0.90      0.95      0.93      1533\n",
      "\n"
     ]
    }
   ],
   "source": [
    "print(classification_report(y_test, y_pred, target_names=['0', '1']))"
   ]
  },
  {
   "cell_type": "code",
   "execution_count": 25,
   "id": "676120f0",
   "metadata": {},
   "outputs": [
    {
     "data": {
      "image/png": "[encoded data removed]",
      "text/plain": [
       "<Figure size 432x288 with 1 Axes>"
      ]
     },
     "metadata": {
      "needs_background": "light"
     },
     "output_type": "display_data"
    }
   ],
   "source": [
    "import sklearn.metrics as metrics\n",
    "probs = clf.predict_proba(X_test_transformed)\n",
    "preds = probs[:,1]\n",
    "fpr, tpr, threshold = metrics.roc_curve(y_test, preds)\n",
    "roc_auc = metrics.auc(fpr, tpr)\n",
    "\n",
    "plt.title('Receiver Operating Characteristic')\n",
    "plt.plot(fpr, tpr, 'b', label = 'AUC = %0.2f' % roc_auc)\n",
    "plt.legend(loc = 'lower right')\n",
    "plt.plot([0, 1], [0, 1],'r--')\n",
    "plt.xlim([0, 1])\n",
    "plt.ylim([0, 1])\n",
    "plt.ylabel('True Positive Rate')\n",
    "plt.xlabel('False Positive Rate')\n",
    "plt.show()"
   ]
  },
  {
   "cell_type": "code",
   "execution_count": 26,
   "id": "fe871f10",
   "metadata": {},
   "outputs": [
    {
     "name": "stdout",
     "output_type": "stream",
     "text": [
      "Random Forest: average_precision_score = 0.050\n"
     ]
    }
   ],
   "source": [
    "aps = average_precision_score(y_test, y_pred)\n",
    "print('Random Forest: average_precision_score = %.3f' % (aps))"
   ]
  },
  {
   "cell_type": "code",
   "execution_count": 27,
   "id": "c8ac0dbd",
   "metadata": {},
   "outputs": [
    {
     "name": "stdout",
     "output_type": "stream",
     "text": [
      "Matthews Correlation Coefficient: matthews correlation coefficient = -0.006\n"
     ]
    }
   ],
   "source": [
    "mcc = matthews_corrcoef(y_test, y_pred)\n",
    "print('Matthews Correlation Coefficient: matthews correlation coefficient = %.3f' % (mcc))"
   ]
  },
  {
   "cell_type": "markdown",
   "id": "f7d5cc39",
   "metadata": {},
   "source": [
    "The initial hyperparameter-less random forest model is slightly more willing to predict positive cases than its logistic regression based counterpart, but it it is still far too hesitant for it to end up being an effective model."
   ]
  },
  {
   "cell_type": "markdown",
   "id": "cecebcd6",
   "metadata": {},
   "source": [
    "# Modeling with the class_weight hyperparameter"
   ]
  },
  {
   "cell_type": "markdown",
   "id": "b740475d",
   "metadata": {},
   "source": [
    "The class_weight parameter allows us to give more weight to positive stroke cases for our model construction"
   ]
  },
  {
   "cell_type": "markdown",
   "id": "884934c7",
   "metadata": {},
   "source": [
    "#### Logistic Regression"
   ]
  },
  {
   "cell_type": "code",
   "execution_count": 28,
   "id": "ac184126",
   "metadata": {},
   "outputs": [],
   "source": [
    "X_train, X_test, y_train, y_test = train_test_split(df.drop(columns='stroke'), \n",
    "                                                    df.stroke, test_size=0.3)\n",
    "scaler = MinMaxScaler()\n",
    "imp = SimpleImputer(strategy='median')\n",
    "X_train_transformed = imp.fit_transform(X_train)\n",
    "X_train_transformed = scaler.fit_transform(X_train_transformed)\n",
    "X_test_transformed = imp.transform(X_test)\n",
    "X_test_transformed = scaler.transform(X_test_transformed)"
   ]
  },
  {
   "cell_type": "code",
   "execution_count": 29,
   "id": "22a86599",
   "metadata": {},
   "outputs": [],
   "source": [
    "lr = LogisticRegression(max_iter=10000, class_weight={0:1, 1:99})\n",
    "clf = Pipeline([('lr', lr)])\n",
    "clf.fit(X_train_transformed, y_train)\n",
    "model_res = clf.fit(X_train_transformed, y_train)\n",
    "y_pred = model_res.predict(X_test_transformed)\n",
    "y_pred_prob = model_res.predict_proba(X_test_transformed)"
   ]
  },
  {
   "cell_type": "code",
   "execution_count": 30,
   "id": "dc13f1f8",
   "metadata": {},
   "outputs": [
    {
     "name": "stdout",
     "output_type": "stream",
     "text": [
      "Logistic Regression with untuned class_weight: Accuracy = 0.499\n",
      "Logistic Regression with untuned class_weight: f1-score = 0.618\n"
     ]
    }
   ],
   "source": [
    "ac = accuracy_score(y_test, y_pred)\n",
    "\n",
    "f1 = f1_score(y_test, y_pred, average='weighted')\n",
    "cm = confusion_matrix(y_test, y_pred)\n",
    "\n",
    "print('Logistic Regression with untuned class_weight: Accuracy = %.3f' % (ac))\n",
    "\n",
    "print('Logistic Regression with untuned class_weight: f1-score = %.3f' % (f1))"
   ]
  },
  {
   "cell_type": "code",
   "execution_count": 31,
   "id": "55987fc2",
   "metadata": {},
   "outputs": [
    {
     "data": {
      "text/plain": [
       "array([[689, 767],\n",
       "       [  1,  76]])"
      ]
     },
     "execution_count": 31,
     "metadata": {},
     "output_type": "execute_result"
    }
   ],
   "source": [
    "cm"
   ]
  },
  {
   "cell_type": "code",
   "execution_count": 32,
   "id": "da41b2c2",
   "metadata": {},
   "outputs": [
    {
     "name": "stdout",
     "output_type": "stream",
     "text": [
      "              precision    recall  f1-score   support\n",
      "\n",
      "           0       1.00      0.47      0.64      1456\n",
      "           1       0.09      0.99      0.17        77\n",
      "\n",
      "    accuracy                           0.50      1533\n",
      "   macro avg       0.54      0.73      0.40      1533\n",
      "weighted avg       0.95      0.50      0.62      1533\n",
      "\n"
     ]
    }
   ],
   "source": [
    "print(classification_report(y_test, y_pred, target_names=['0', '1']))"
   ]
  },
  {
   "cell_type": "code",
   "execution_count": 33,
   "id": "22db929c",
   "metadata": {},
   "outputs": [
    {
     "data": {
      "image/png": "[encoded data removed]",
      "text/plain": [
       "<Figure size 432x288 with 1 Axes>"
      ]
     },
     "metadata": {
      "needs_background": "light"
     },
     "output_type": "display_data"
    }
   ],
   "source": [
    "probs = clf.predict_proba(X_test_transformed)\n",
    "preds = probs[:,1]\n",
    "fpr, tpr, threshold = metrics.roc_curve(y_test, preds)\n",
    "roc_auc = metrics.auc(fpr, tpr)\n",
    "\n",
    "plt.title('Receiver Operating Characteristic')\n",
    "plt.plot(fpr, tpr, 'b', label = 'AUC = %0.2f' % roc_auc)\n",
    "plt.legend(loc = 'lower right')\n",
    "plt.plot([0, 1], [0, 1],'r--')\n",
    "plt.xlim([0, 1])\n",
    "plt.ylim([0, 1])\n",
    "plt.ylabel('True Positive Rate')\n",
    "plt.xlabel('False Positive Rate')\n",
    "plt.show()"
   ]
  },
  {
   "cell_type": "code",
   "execution_count": 34,
   "id": "2c8b65d4",
   "metadata": {},
   "outputs": [
    {
     "name": "stdout",
     "output_type": "stream",
     "text": [
      "Logistic Regression with untuned class_weight: average_precision_score = 0.090\n"
     ]
    }
   ],
   "source": [
    "aps = average_precision_score(y_test, y_pred)\n",
    "print('Logistic Regression with untuned class_weight: average_precision_score = %.3f' % (aps))"
   ]
  },
  {
   "cell_type": "code",
   "execution_count": 35,
   "id": "113898b0",
   "metadata": {},
   "outputs": [
    {
     "name": "stdout",
     "output_type": "stream",
     "text": [
      "Matthews Correlation Coefficient with untuned class_weight: matthews correlation coefficient = 0.202\n"
     ]
    }
   ],
   "source": [
    "mcc = matthews_corrcoef(y_test, y_pred)\n",
    "print('Matthews Correlation Coefficient with untuned class_weight: matthews correlation coefficient = %.3f' % (mcc))"
   ]
  },
  {
   "cell_type": "markdown",
   "id": "c5e4a985",
   "metadata": {},
   "source": [
    "#### Random Forest"
   ]
  },
  {
   "cell_type": "code",
   "execution_count": 36,
   "id": "7b29a209",
   "metadata": {},
   "outputs": [],
   "source": [
    "X_train, X_test, y_train, y_test = train_test_split(df.drop(columns='stroke'), \n",
    "                                                    df.stroke, test_size=0.3)\n",
    "scaler = MinMaxScaler()\n",
    "imp = SimpleImputer(strategy='median')\n",
    "X_train_transformed = imp.fit_transform(X_train)\n",
    "X_train_transformed = scaler.fit_transform(X_train_transformed)\n",
    "X_test_transformed = imp.transform(X_test)\n",
    "X_test_transformed = scaler.transform(X_test_transformed)"
   ]
  },
  {
   "cell_type": "code",
   "execution_count": 37,
   "id": "bcf7105b",
   "metadata": {},
   "outputs": [
    {
     "name": "stdout",
     "output_type": "stream",
     "text": [
      "Random Forest: Accuracy=0.942\n",
      "Random Forest: f1-score=0.916\n"
     ]
    }
   ],
   "source": [
    "rfc = RandomForestClassifier(n_estimators=300, random_state = 1,n_jobs=-1,class_weight={0:1, 1:99})\n",
    "clf = Pipeline([('rfc', rfc)])\n",
    "model_res = clf.fit(X_train_transformed, y_train)\n",
    "y_pred = model_res.predict(X_test_transformed)\n",
    "y_pred_prob = model_res.predict_proba(X_test_transformed)\n",
    "ac = accuracy_score(y_test, y_pred)\n",
    "\n",
    "f1 = f1_score(y_test, y_pred, average='weighted')\n",
    "cm = confusion_matrix(y_test, y_pred)\n",
    "\n",
    "print('Random Forest: Accuracy=%.3f' % (ac))\n",
    "\n",
    "print('Random Forest: f1-score=%.3f' % (f1))"
   ]
  },
  {
   "cell_type": "code",
   "execution_count": 38,
   "id": "7f8d0cb1",
   "metadata": {},
   "outputs": [
    {
     "data": {
      "text/plain": [
       "array([[1444,    3],\n",
       "       [  86,    0]])"
      ]
     },
     "execution_count": 38,
     "metadata": {},
     "output_type": "execute_result"
    }
   ],
   "source": [
    "cm"
   ]
  },
  {
   "cell_type": "code",
   "execution_count": 39,
   "id": "7bc51b7c",
   "metadata": {},
   "outputs": [
    {
     "name": "stdout",
     "output_type": "stream",
     "text": [
      "              precision    recall  f1-score   support\n",
      "\n",
      "           0       0.94      1.00      0.97      1447\n",
      "           1       0.00      0.00      0.00        86\n",
      "\n",
      "    accuracy                           0.94      1533\n",
      "   macro avg       0.47      0.50      0.49      1533\n",
      "weighted avg       0.89      0.94      0.92      1533\n",
      "\n"
     ]
    }
   ],
   "source": [
    "print(classification_report(y_test, y_pred, target_names=['0', '1']))"
   ]
  },
  {
   "cell_type": "code",
   "execution_count": 40,
   "id": "a5725212",
   "metadata": {},
   "outputs": [
    {
     "name": "stdout",
     "output_type": "stream",
     "text": [
      "Random Forest: average_precision_score = 0.056\n"
     ]
    }
   ],
   "source": [
    "aps = average_precision_score(y_test, y_pred)\n",
    "print('Random Forest: average_precision_score = %.3f' % (aps))"
   ]
  },
  {
   "cell_type": "code",
   "execution_count": 41,
   "id": "0729a445",
   "metadata": {},
   "outputs": [
    {
     "name": "stdout",
     "output_type": "stream",
     "text": [
      "Matthews Correlation Coefficient: matthews correlation coefficient = -0.011\n"
     ]
    }
   ],
   "source": [
    "mcc = matthews_corrcoef(y_test, y_pred)\n",
    "print('Matthews Correlation Coefficient: matthews correlation coefficient = %.3f' % (mcc))"
   ]
  },
  {
   "cell_type": "markdown",
   "id": "84bed7c2",
   "metadata": {},
   "source": [
    "We can see that simply adding the class_weight parameter without tuning it doesn't make for a particularly better model. For our final models, we will tune class_weight using the GridSearchCV function."
   ]
  },
  {
   "cell_type": "markdown",
   "id": "b2ec3e24",
   "metadata": {},
   "source": [
    "# Tuning with GridSearchCV"
   ]
  },
  {
   "cell_type": "markdown",
   "id": "1792395c",
   "metadata": {},
   "source": [
    "#### Logistic Regression "
   ]
  },
  {
   "cell_type": "code",
   "execution_count": 83,
   "id": "45e48e07",
   "metadata": {},
   "outputs": [],
   "source": [
    "X_train, X_test, y_train, y_test = train_test_split(df.drop(columns='stroke'), \n",
    "                                                    df.stroke, test_size=0.3)\n",
    "scaler = MinMaxScaler()\n",
    "imp = SimpleImputer(strategy='median')\n",
    "X_train_transformed = imp.fit_transform(X_train)\n",
    "X_train_transformed = scaler.fit_transform(X_train_transformed)\n",
    "X_test_transformed = imp.transform(X_test)\n",
    "X_test_transformed = scaler.transform(X_test_transformed)"
   ]
  },
  {
   "cell_type": "code",
   "execution_count": 84,
   "id": "c0770c17",
   "metadata": {},
   "outputs": [],
   "source": [
    "w = [{0:1.0,1:1.0}, \n",
    "     {0:1.0,1:0.1}, {0:1.0,1:0.01}, {0:1.0,1:0.001}, {0:1.0,1:0.005}, \n",
    "     {0:1.0,1:5},{0:1.0,1:6},{0:1.0,1:7},{0:1.0,1:8},{0:1.0,1:9},\n",
    "     {0:1.0,1:10}, {0:1.0,1:11},{0:1.0,1:12},{0:1.0,1:13},{0:1.0,1:14},{0:1.0,1:15}, {0:1.0,1:20}, \n",
    "     {0:1.0,1:25},{0:1.0,1:50},{0:1.0,1:75},\n",
    "     {0:1.0,1:99}, {0:1.0,1:100}]\n",
    "hyperparam_grid = {\"class_weight\": w}"
   ]
  },
  {
   "cell_type": "code",
   "execution_count": 85,
   "id": "d4bd80dd",
   "metadata": {},
   "outputs": [
    {
     "name": "stdout",
     "output_type": "stream",
     "text": [
      "Best score: 0.8322352941176472 with param: {'class_weight': {0: 1.0, 1: 15}}\n"
     ]
    }
   ],
   "source": [
    "lr = LogisticRegression(max_iter=10000, random_state=13)\n",
    "# define evaluation procedure\n",
    "grid = GridSearchCV(lr,hyperparam_grid,scoring=\"roc_auc\", cv=100, n_jobs=-1, refit=True)\n",
    "grid.fit(X_train_transformed, y_train)\n",
    "print(f'Best score: {grid.best_score_} with param: {grid.best_params_}')"
   ]
  },
  {
   "cell_type": "code",
   "execution_count": 86,
   "id": "b2920c1b",
   "metadata": {},
   "outputs": [],
   "source": [
    "lr = LogisticRegression(max_iter=10000, random_state=13, class_weight={0:1, 1:15})\n",
    "clf = Pipeline([('lr', lr)])\n",
    "clf.fit(X_train_transformed, y_train)\n",
    "model_res = clf.fit(X_train_transformed, y_train)\n",
    "y_pred = model_res.predict(X_test_transformed)\n",
    "y_pred_prob = model_res.predict_proba(X_test_transformed)"
   ]
  },
  {
   "cell_type": "code",
   "execution_count": 87,
   "id": "6b63063a",
   "metadata": {},
   "outputs": [
    {
     "name": "stdout",
     "output_type": "stream",
     "text": [
      "Logistic Regression with tuned class_weight: Accuracy = 0.777\n",
      "Logistic Regression with tuned class_weight: f1-score = 0.839\n"
     ]
    }
   ],
   "source": [
    "ac = accuracy_score(y_test, y_pred)\n",
    "\n",
    "f1 = f1_score(y_test, y_pred, average='weighted')\n",
    "cm = confusion_matrix(y_test, y_pred)\n",
    "\n",
    "print('Logistic Regression with tuned class_weight: Accuracy = %.3f' % (ac))\n",
    "\n",
    "print('Logistic Regression with tuned class_weight: f1-score = %.3f' % (f1))"
   ]
  },
  {
   "cell_type": "code",
   "execution_count": 88,
   "id": "31f2ac5b",
   "metadata": {},
   "outputs": [
    {
     "data": {
      "text/plain": [
       "array([[1128,  330],\n",
       "       [  12,   63]])"
      ]
     },
     "execution_count": 88,
     "metadata": {},
     "output_type": "execute_result"
    }
   ],
   "source": [
    "cm"
   ]
  },
  {
   "cell_type": "code",
   "execution_count": 89,
   "id": "52a08f9f",
   "metadata": {},
   "outputs": [
    {
     "name": "stdout",
     "output_type": "stream",
     "text": [
      "              precision    recall  f1-score   support\n",
      "\n",
      "           0       0.99      0.77      0.87      1458\n",
      "           1       0.16      0.84      0.27        75\n",
      "\n",
      "    accuracy                           0.78      1533\n",
      "   macro avg       0.57      0.81      0.57      1533\n",
      "weighted avg       0.95      0.78      0.84      1533\n",
      "\n"
     ]
    }
   ],
   "source": [
    "print(classification_report(y_test, y_pred, target_names=['0', '1']))"
   ]
  },
  {
   "cell_type": "code",
   "execution_count": 90,
   "id": "e7ad0607",
   "metadata": {},
   "outputs": [
    {
     "data": {
      "image/png": "[encoded data removed]",
      "text/plain": [
       "<Figure size 432x288 with 1 Axes>"
      ]
     },
     "metadata": {
      "needs_background": "light"
     },
     "output_type": "display_data"
    }
   ],
   "source": [
    "probs = clf.predict_proba(X_test_transformed)\n",
    "preds = probs[:,1]\n",
    "fpr, tpr, threshold = metrics.roc_curve(y_test, preds)\n",
    "roc_auc = metrics.auc(fpr, tpr)\n",
    "\n",
    "plt.title('Receiver Operating Characteristic')\n",
    "plt.plot(fpr, tpr, 'b', label = 'AUC = %0.2f' % roc_auc)\n",
    "plt.legend(loc = 'lower right')\n",
    "plt.plot([0, 1], [0, 1],'r--')\n",
    "plt.xlim([0, 1])\n",
    "plt.ylim([0, 1])\n",
    "plt.ylabel('True Positive Rate')\n",
    "plt.xlabel('False Positive Rate')\n",
    "plt.show()"
   ]
  },
  {
   "cell_type": "code",
   "execution_count": 91,
   "id": "41229ba8",
   "metadata": {},
   "outputs": [
    {
     "name": "stdout",
     "output_type": "stream",
     "text": [
      "Logistic Regression with tuned class_weight: average_precision_score = 0.142\n"
     ]
    }
   ],
   "source": [
    "aps = average_precision_score(y_test, y_pred)\n",
    "print('Logistic Regression with tuned class_weight: average_precision_score = %.3f' % (aps))"
   ]
  },
  {
   "cell_type": "code",
   "execution_count": 92,
   "id": "07689b49",
   "metadata": {},
   "outputs": [
    {
     "name": "stdout",
     "output_type": "stream",
     "text": [
      "Matthews Correlation Coefficient with tuned class_weight: matthews correlation coefficient = 0.303\n"
     ]
    }
   ],
   "source": [
    "mcc = matthews_corrcoef(y_test, y_pred)\n",
    "print('Matthews Correlation Coefficient with tuned class_weight: matthews correlation coefficient = %.3f' % (mcc))"
   ]
  },
  {
   "cell_type": "markdown",
   "id": "1c26a8cc",
   "metadata": {},
   "source": [
    "#### Random Forest"
   ]
  },
  {
   "cell_type": "code",
   "execution_count": 99,
   "id": "3ac59314",
   "metadata": {},
   "outputs": [],
   "source": [
    "X_train, X_test, y_train, y_test = train_test_split(df.drop(columns='stroke'), \n",
    "                                                    df.stroke, test_size=0.3)\n",
    "scaler = MinMaxScaler()\n",
    "imp = SimpleImputer(strategy='median')\n",
    "X_train_transformed = imp.fit_transform(X_train)\n",
    "X_train_transformed = scaler.fit_transform(X_train_transformed)\n",
    "X_test_transformed = imp.transform(X_test)\n",
    "X_test_transformed = scaler.transform(X_test_transformed)"
   ]
  },
  {
   "cell_type": "code",
   "execution_count": 100,
   "id": "835d1d19",
   "metadata": {},
   "outputs": [],
   "source": [
    "w = [{0:1.0,1:5},{0:1.0,1:6},{0:1.0,1:7},{0:1.0,1:8},{0:1.0,1:9},\n",
    "     {0:1.0,1:10}, {0:1.0,1:11},{0:1.0,1:12},{0:1.0,1:13},{0:1.0,1:14},{0:1.0,1:15}, {0:1.0,1:20}, \n",
    "     {0:1.0,1:25},{0:1.0,1:50},{0:1.0,1:75},\n",
    "     {0:1.0,1:99}, {0:1.0,1:100}]\n",
    "\n",
    "hyperparam_grid = {\"class_weight\": w}"
   ]
  },
  {
   "cell_type": "code",
   "execution_count": 101,
   "id": "7ee0e659",
   "metadata": {},
   "outputs": [
    {
     "name": "stdout",
     "output_type": "stream",
     "text": [
      "Best score: 0.8169957983193277 with param: {'class_weight': {0: 1.0, 1: 8}}\n"
     ]
    }
   ],
   "source": [
    "rfc = RandomForestClassifier(n_estimators=300, random_state = 1,n_jobs=-1)\n",
    "# define evaluation procedure\n",
    "grid = GridSearchCV(rfc,hyperparam_grid,scoring=\"roc_auc\", cv=100, n_jobs=-1, refit=True)\n",
    "grid.fit(X_train_transformed, y_train)\n",
    "print(f'Best score: {grid.best_score_} with param: {grid.best_params_}')"
   ]
  },
  {
   "cell_type": "code",
   "execution_count": 102,
   "id": "b39c7452",
   "metadata": {},
   "outputs": [
    {
     "name": "stdout",
     "output_type": "stream",
     "text": [
      "Random Forest: Accuracy=0.943\n",
      "Random Forest: f1-score=0.916\n"
     ]
    }
   ],
   "source": [
    "rfc = RandomForestClassifier(n_estimators=300, random_state = 1,n_jobs=-1,class_weight={0:1, 1:8})\n",
    "clf = Pipeline([('rfc', rfc)])\n",
    "model_res = clf.fit(X_train_transformed, y_train)\n",
    "y_pred = model_res.predict(X_test_transformed)\n",
    "y_pred_prob = model_res.predict_proba(X_test_transformed)\n",
    "ac = accuracy_score(y_test, y_pred)\n",
    "\n",
    "f1 = f1_score(y_test, y_pred, average='weighted')\n",
    "cm = confusion_matrix(y_test, y_pred)\n",
    "\n",
    "print('Random Forest: Accuracy=%.3f' % (ac))\n",
    "\n",
    "print('Random Forest: f1-score=%.3f' % (f1))"
   ]
  },
  {
   "cell_type": "code",
   "execution_count": 103,
   "id": "6d7a5f45",
   "metadata": {},
   "outputs": [
    {
     "data": {
      "text/plain": [
       "array([[1445,    2],\n",
       "       [  86,    0]])"
      ]
     },
     "execution_count": 103,
     "metadata": {},
     "output_type": "execute_result"
    }
   ],
   "source": [
    "cm"
   ]
  },
  {
   "cell_type": "code",
   "execution_count": 104,
   "id": "7feef4b0",
   "metadata": {},
   "outputs": [
    {
     "name": "stdout",
     "output_type": "stream",
     "text": [
      "              precision    recall  f1-score   support\n",
      "\n",
      "           0       0.94      1.00      0.97      1447\n",
      "           1       0.00      0.00      0.00        86\n",
      "\n",
      "    accuracy                           0.94      1533\n",
      "   macro avg       0.47      0.50      0.49      1533\n",
      "weighted avg       0.89      0.94      0.92      1533\n",
      "\n"
     ]
    }
   ],
   "source": [
    "print(classification_report(y_test, y_pred, target_names=['0', '1']))"
   ]
  },
  {
   "cell_type": "code",
   "execution_count": null,
   "id": "88f84b94",
   "metadata": {},
   "outputs": [],
   "source": [
    "aps = average_precision_score(y_test, y_pred)\n",
    "print('Random Forest: average_precision_score = %.3f' % (aps))"
   ]
  },
  {
   "cell_type": "code",
   "execution_count": null,
   "id": "6d2eee06",
   "metadata": {},
   "outputs": [],
   "source": [
    "mcc = matthews_corrcoef(y_test, y_pred)\n",
    "print('Matthews Correlation Coefficient: matthews correlation coefficient = %.3f' % (mcc))"
   ]
  },
  {
   "cell_type": "markdown",
   "id": "a728efbb",
   "metadata": {},
   "source": [
    "Tuning with GridSearchCV made our logistic regression model significantly better. "
   ]
  },
  {
   "cell_type": "code",
   "execution_count": 106,
   "id": "4edae302",
   "metadata": {},
   "outputs": [
    {
     "name": "stdout",
     "output_type": "stream",
     "text": [
      "Collecting shap\n",
      "  Downloading shap-0.39.0.tar.gz (356 kB)\n",
      "\u001b[K     |████████████████████████████████| 356 kB 1.8 MB/s eta 0:00:01\n",
      "\u001b[?25hRequirement already satisfied: numpy in /Users/ryan/anaconda3/lib/python3.7/site-packages (from shap) (1.20.3)\n",
      "Requirement already satisfied: scipy in /Users/ryan/anaconda3/lib/python3.7/site-packages (from shap) (1.6.2)\n",
      "Requirement already satisfied: scikit-learn in /Users/ryan/anaconda3/lib/python3.7/site-packages (from shap) (0.24.2)\n",
      "Requirement already satisfied: pandas in /Users/ryan/anaconda3/lib/python3.7/site-packages (from shap) (1.2.5)\n",
      "Requirement already satisfied: tqdm>4.25.0 in /Users/ryan/anaconda3/lib/python3.7/site-packages (from shap) (4.61.2)\n",
      "Collecting slicer==0.0.7\n",
      "  Downloading slicer-0.0.7-py3-none-any.whl (14 kB)\n",
      "Requirement already satisfied: numba in /Users/ryan/anaconda3/lib/python3.7/site-packages (from shap) (0.53.0)\n",
      "Requirement already satisfied: cloudpickle in /Users/ryan/anaconda3/lib/python3.7/site-packages (from shap) (1.6.0)\n",
      "Requirement already satisfied: setuptools in /Users/ryan/anaconda3/lib/python3.7/site-packages (from numba->shap) (52.0.0.post20210125)\n",
      "Requirement already satisfied: llvmlite<0.37,>=0.36.0rc1 in /Users/ryan/anaconda3/lib/python3.7/site-packages (from numba->shap) (0.36.0)\n",
      "Requirement already satisfied: python-dateutil>=2.7.3 in /Users/ryan/anaconda3/lib/python3.7/site-packages (from pandas->shap) (2.8.2)\n",
      "Requirement already satisfied: pytz>=2017.3 in /Users/ryan/anaconda3/lib/python3.7/site-packages (from pandas->shap) (2021.1)\n",
      "Requirement already satisfied: six>=1.5 in /Users/ryan/anaconda3/lib/python3.7/site-packages (from python-dateutil>=2.7.3->pandas->shap) (1.16.0)\n",
      "Requirement already satisfied: threadpoolctl>=2.0.0 in /Users/ryan/anaconda3/lib/python3.7/site-packages (from scikit-learn->shap) (2.2.0)\n",
      "Requirement already satisfied: joblib>=0.11 in /Users/ryan/anaconda3/lib/python3.7/site-packages (from scikit-learn->shap) (1.0.1)\n",
      "Building wheels for collected packages: shap\n",
      "  Building wheel for shap (setup.py) ... \u001b[?25ldone\n",
      "\u001b[?25h  Created wheel for shap: filename=shap-0.39.0-cp37-cp37m-macosx_10_9_x86_64.whl size=416034 sha256=7a2ab7327994dc020b053179551ee0fb4f7c3455aad42973699be7f059ffd9ec\n",
      "  Stored in directory: /Users/ryan/Library/Caches/pip/wheels/ca/25/8f/6ae5df62c32651cd719e972e738a8aaa4a87414c4d2b14c9c0\n",
      "Successfully built shap\n",
      "Installing collected packages: slicer, shap\n",
      "Successfully installed shap-0.39.0 slicer-0.0.7\n",
      "Note: you may need to restart the kernel to use updated packages.\n"
     ]
    }
   ],
   "source": [
    "pip install shap"
   ]
  },
  {
   "cell_type": "code",
   "execution_count": 109,
   "id": "59d01e01",
   "metadata": {},
   "outputs": [
    {
     "ename": "Exception",
     "evalue": "The passed model is not callable and cannot be analyzed directly with the given masker! Model: Pipeline(steps=[('rfc',\n                 RandomForestClassifier(class_weight={0: 1, 1: 8},\n                                        n_estimators=300, n_jobs=-1,\n                                        random_state=1))])",
     "output_type": "error",
     "traceback": [
      "\u001b[0;31m---------------------------------------------------------------------------\u001b[0m",
      "\u001b[0;31mException\u001b[0m                                 Traceback (most recent call last)",
      "\u001b[0;32m<ipython-input-109-a2993e7e88b6>\u001b[0m in \u001b[0;36m<module>\u001b[0;34m\u001b[0m\n\u001b[1;32m      1\u001b[0m \u001b[0;32mimport\u001b[0m \u001b[0mshap\u001b[0m\u001b[0;34m\u001b[0m\u001b[0;34m\u001b[0m\u001b[0m\n\u001b[0;32m----> 2\u001b[0;31m \u001b[0mexplainer\u001b[0m \u001b[0;34m=\u001b[0m \u001b[0mshap\u001b[0m\u001b[0;34m.\u001b[0m\u001b[0mExplainer\u001b[0m\u001b[0;34m(\u001b[0m\u001b[0mmodel_res\u001b[0m\u001b[0;34m)\u001b[0m\u001b[0;34m\u001b[0m\u001b[0;34m\u001b[0m\u001b[0m\n\u001b[0m\u001b[1;32m      3\u001b[0m \u001b[0mshap_values\u001b[0m \u001b[0;34m=\u001b[0m \u001b[0mexplainer\u001b[0m\u001b[0;34m(\u001b[0m\u001b[0mX_train\u001b[0m\u001b[0;34m)\u001b[0m\u001b[0;34m\u001b[0m\u001b[0;34m\u001b[0m\u001b[0m\n",
      "\u001b[0;32m~/anaconda3/lib/python3.7/site-packages/shap/explainers/_explainer.py\u001b[0m in \u001b[0;36m__init__\u001b[0;34m(self, model, masker, link, algorithm, output_names, feature_names, **kwargs)\u001b[0m\n\u001b[1;32m    166\u001b[0m                 \u001b[0;31m# if we get here then we don't know how to handle what was given to us\u001b[0m\u001b[0;34m\u001b[0m\u001b[0;34m\u001b[0m\u001b[0;34m\u001b[0m\u001b[0m\n\u001b[1;32m    167\u001b[0m                 \u001b[0;32melse\u001b[0m\u001b[0;34m:\u001b[0m\u001b[0;34m\u001b[0m\u001b[0;34m\u001b[0m\u001b[0m\n\u001b[0;32m--> 168\u001b[0;31m                     \u001b[0;32mraise\u001b[0m \u001b[0mException\u001b[0m\u001b[0;34m(\u001b[0m\u001b[0;34m\"The passed model is not callable and cannot be analyzed directly with the given masker! Model: \"\u001b[0m \u001b[0;34m+\u001b[0m \u001b[0mstr\u001b[0m\u001b[0;34m(\u001b[0m\u001b[0mmodel\u001b[0m\u001b[0;34m)\u001b[0m\u001b[0;34m)\u001b[0m\u001b[0;34m\u001b[0m\u001b[0;34m\u001b[0m\u001b[0m\n\u001b[0m\u001b[1;32m    169\u001b[0m \u001b[0;34m\u001b[0m\u001b[0m\n\u001b[1;32m    170\u001b[0m             \u001b[0;31m# build the right subclass\u001b[0m\u001b[0;34m\u001b[0m\u001b[0;34m\u001b[0m\u001b[0;34m\u001b[0m\u001b[0m\n",
      "\u001b[0;31mException\u001b[0m: The passed model is not callable and cannot be analyzed directly with the given masker! Model: Pipeline(steps=[('rfc',\n                 RandomForestClassifier(class_weight={0: 1, 1: 8},\n                                        n_estimators=300, n_jobs=-1,\n                                        random_state=1))])"
     ]
    }
   ],
   "source": [
    "import shap\n",
    "explainer = shap.Explainer(model_res)\n",
    "shap_values = explainer(X_train)\n"
   ]
  },
  {
   "cell_type": "code",
   "execution_count": null,
   "id": "5323b79b",
   "metadata": {},
   "outputs": [],
   "source": []
  }
 ],
 "metadata": {
  "kernelspec": {
   "display_name": "Python 3",
   "language": "python",
   "name": "python3"
  },
  "language_info": {
   "codemirror_mode": {
    "name": "ipython",
    "version": 3
   },
   "file_extension": ".py",
   "mimetype": "text/x-python",
   "name": "python",
   "nbconvert_exporter": "python",
   "pygments_lexer": "ipython3",
   "version": "3.7.3"
  }
 },
 "nbformat": 4,
 "nbformat_minor": 5
}
